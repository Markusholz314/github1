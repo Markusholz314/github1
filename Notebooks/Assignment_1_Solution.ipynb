{
 "cells": [
  {
   "cell_type": "markdown",
   "metadata": {},
   "source": [
    "# Assignment 1\n",
    "## Task 1\n",
    "Suppose we have a two-class classification problem, where we denote\n",
    "the two classes with $+1$ and $-1$. Further assume that the joint\n",
    "distribution of $\\mathbf{x}$ and $y$, $p(\\mathbf{x},y)$, is known and that\n",
    "the distributions of the two classes do not overlap, i.e.\n",
    "$$\n",
    "\\min\\{p(\\mathbf{x}|y=+1),p(\\mathbf{x}|y=-1)\\}=0.\n",
    "$$\n",
    "Determine an optimal classification function $g$ and compute the\n",
    "generalization error using the zero-one loss function."
   ]
  },
  {
   "cell_type": "markdown",
   "metadata": {},
   "source": [
    "### Solution\n",
    "Since $p(\\mathbf{x},y)$, is known, we can also compute the marginals $p(\\mathbf{x})$ and $p(y)$ by averaging(i.e. integrating or summing) over variables( e.g. if we are interested in $p(\\mathbf{x})$, we need to average over $y$). Then, by definition of conditional probability, we can also compute $p(\\mathbf{x}|y)=\\frac{p(\\mathbf{x},y)}{p(y)}$ and similarly $p(y|\\mathbf{x})$. According to the slides, we can therefore find an optimal classifier, given by any function $g$ that satisfies\n",
    "\\begin{eqnarray*}\n",
    "\t\t\\label{eq:minrisk} g(\\mathbf{x}) \\ \\left\\{\n",
    "\t\t\\begin{array}{lll}\n",
    "\t\t> \\ 0 & \\mbox{for} &  p\\left(y=1 \\mid \\mathbf{x} \\right) \\ > \\\n",
    "\t\tp\\left(y=-1 \\mid \\mathbf{x} \\right)\\\\\n",
    "\t\t< \\ 0 & \\mbox{for} & p\\left(y=-1 \\mid \\mathbf{x} \\right) \\ > \\ p\\left(y=1\n",
    "\t\t\\mid \\mathbf{x} \\right)\n",
    "\t\t\\end{array} \\right.\n",
    "\t\\end{eqnarray*}\n",
    "Moreover,by the definition of conditional probability(or also known as Bayes' Theorem), we have\n",
    "$$\n",
    "p(y|\\mathbf{x})=\\frac{p(\\mathbf{x}|y)p(y)}{p(\\mathbf{x})}.\n",
    "$$\n",
    "This immediately leads to the conclusion that $\\min\\{p(\\mathbf{x}|y=+1),p(\\mathbf{x}|y=-1)\\}=0$ if and only if $\\min\\{ p(y=+1 \\mid \\mathbf{x}), p(y=-1 \\mid \\mathbf{x}) \\}=0$. \n",
    "We also know from the slides how the minimal risk can be computed and therefore conclude: \n",
    "\\begin{equation*}\n",
    "\t\t \\begin{split}\n",
    "\t\t\tR_{\\mathrm{min}} %& =  \\int_{X}  \\min\\{ p\\left(\\mathbf{x},y=-1\\right), p\\left(\\mathbf{x},y=1\\right) \\} \\ d\\mathbf{x} \\\\\n",
    "\t\t\t                 & =\\int_{X}  \\min\\{ p\\left(y=-1 \\mid \\mathbf{x} \\right), p\\left(y=1 \\mid \\mathbf{x}\\right) \\} \\ p(\\mathbf{x}) \\ d\\mathbf{x}=0 .\n",
    "\t\t\\end{split}\n",
    "\t\\end{equation*}"
   ]
  },
  {
   "cell_type": "markdown",
   "metadata": {},
   "source": [
    "## Task 2\n",
    "Assume that the two classes in data set ${\\tt DataSet6}$ are\n",
    "distributed according to multivariate normal distributions. Estimate\n",
    "the means and covariance matrices as well as $p(y=+1)$ and $p(y=-1)$\n",
    "from the data (you may use all 200 samples), compute an optimal\n",
    "classification function (see slide 9) and visualize it\n",
    "graphically(a two-dimensional plot suffices). "
   ]
  },
  {
   "cell_type": "markdown",
   "metadata": {},
   "source": [
    "### Solution"
   ]
  },
  {
   "cell_type": "code",
   "execution_count": 5,
   "metadata": {},
   "outputs": [
    {
     "name": "stdout",
     "output_type": "stream",
     "text": [
      "Cov of positve class= [[ 0.97776086 -0.63279722]\n",
      " [-0.63279722  0.96214327]]\n",
      "Cov of negative class= [[1.18686086 0.55312556]\n",
      " [0.55312556 0.98948508]]\n",
      "Mean of positve class= [-0.23072318  1.0973771 ]\n",
      "Mean of negative class= [0.72081505 2.3428049 ]\n",
      "P(y=1)= 0.6716417910447762\n",
      "P(y=-1)= 0.32835820895522383\n",
      "Value of A= [[0.64132121 1.80808986]\n",
      " [1.80808986 0.44294787]]\n",
      "Value of w= [ 1.54525683 -1.02711802]\n",
      "Value of b= 3.083468597232569\n"
     ]
    },
    {
     "data": {
      "image/png": "[encoded data removed]",
      "text/plain": [
       "<Figure size 432x288 with 1 Axes>"
      ]
     },
     "metadata": {
      "needs_background": "light"
     },
     "output_type": "display_data"
    }
   ],
   "source": [
    "import sklearn\n",
    "import numpy as np\n",
    "import matplotlib.pyplot as plt\n",
    "\n",
    "#read data, split into X(features) and y(labels)\n",
    "Z = np.genfromtxt('DataSet6.csv', delimiter=',')\n",
    "X, y = Z[:,:-1], Z[:,-1]\n",
    "#further split features according to labels\n",
    "Xpos=X[y==1]\n",
    "Xneg=X[y==-1]\n",
    "#compute mean and covariance\n",
    "meanXpos=np.mean(Xpos.T,axis=1)\n",
    "meanXneg=np.mean(Xneg.T,axis=1)\n",
    "covXpos=np.cov(Xpos.T)\n",
    "covXneg=np.cov(Xneg.T)\n",
    "#compute distribution p(y=+-1)\n",
    "p_ypos=Xpos.T.shape[1]/X.shape[0]\n",
    "p_yneg=1-p_ypos\n",
    "#print corresponding values\n",
    "print(\"Cov of positve class=\", covXpos)\n",
    "print(\"Cov of negative class=\", covXneg)\n",
    "print(\"Mean of positve class=\", meanXpos)\n",
    "print(\"Mean of negative class=\", meanXneg)\n",
    "print(\"P(y=1)=\", p_ypos)\n",
    "print(\"P(y=-1)=\", p_yneg)\n",
    "#compute inverses of covariance matrices\n",
    "covXpos_inv = np.linalg.inv(covXpos)\n",
    "covXneg_inv = np.linalg.inv(covXneg)\n",
    "#compute parameters of discrimination function g according to slide 9\n",
    "A= covXpos_inv - covXneg_inv\n",
    "w = np.matmul(covXpos_inv, meanXpos) - np.matmul(covXneg_inv, meanXneg)\n",
    "b = (-1/2*np.matmul(np.matmul(meanXpos, covXpos_inv), meanXpos)\n",
    "+ 1/2*np.matmul(np.matmul(meanXneg, covXneg_inv), meanXneg)\n",
    "- 1/2 * np.log(np.linalg.det(covXpos)) + 1/2 * np.log(np.linalg.det(covXneg))\n",
    "+ np.log(p_ypos) - np.log(p_yneg) )\n",
    "#Print corresponding values\n",
    "print(\"Value of A=\", A)\n",
    "print(\"Value of w=\", w)\n",
    "print(\"Value of b=\", b)\n",
    "#Create grid and use it to evaluate g\n",
    "X1, X2 = np.mgrid[-3:4:500j, -2:5:500j]\n",
    "points = np.c_[X1.ravel(), X2.ravel()]\n",
    "g = -1/2*np.sum(np.dot(points, A) * points, axis=1) + np.dot(points, w) + b\n",
    "#Create Plot\n",
    "plt.scatter(X1,X2, g > 0, label=\"estimate class 1\")\n",
    "plt.scatter(X1,X2, g < 0, label=\"estimate class -1\")\n",
    "plt.scatter(Xpos[:,0],Xpos[:,1], color= 'blue', label=\"class 1\")\n",
    "plt.scatter(Xneg[:,0],Xneg[:,1], color='red', label=\"class -1\")\n",
    "plt.xlabel(\"X1\")\n",
    "plt.ylabel(\"X2\")\n",
    "plt.legend(loc=4)\n",
    "plt.show()"
   ]
  },
  {
   "cell_type": "markdown",
   "metadata": {},
   "source": [
    "## Task 3\n",
    "### Part 1\n",
    "Given the model class $M$ of all exponential distributions with \n",
    "parameter\n",
    "$\\lambda$.\n",
    "i.e. $M=\\{f_{\\lambda}(x) \\mid \\lambda > 0\\}$ with\n",
    "$$\n",
    "      f_{\\lambda}(x) = \\begin{cases}\\displaystyle\n",
    "                         \\lambda {\\rm e}^{-\\lambda x} & x \\ge 0 \\\\\n",
    "\t\t\t0 & x < 0\n",
    "                      \\end{cases} \n",
    "$$\n",
    "Derive a formula for the maximum likelihood estimator $\\lambda^*$ for the parameter \n",
    "$\\lambda$.\n",
    "\n",
    "Hint: Maximize the logarithm of the likelihood function instead of the \n",
    "likelihood function\n",
    "itself."
   ]
  },
  {
   "cell_type": "markdown",
   "metadata": {},
   "source": [
    "### Solution\n",
    "Assume that $\\mathbf{x}=(x_1,...,x_n)$, where the $x_i$s are iid, according to an exponential distribution with parameter $\\lambda$ . Without restriction we can work with positive $x_i$'s. The liklehood can then be computed, according to the slides, as\n",
    "\\begin{align*}\n",
    "\t\t\\mathcal{L}(\\{\\mathbf{x}\\}; \\lambda) = p(\\{\\mathbf{x}\\};\\lambda\\}) =  \\prod_{i=1}^n p(x_i ; \\lambda)=\\prod_{i=1}^n f_{\\lambda}(x_i)=\\lambda^n \\prod_{i=1}^n e^{-\\lambda x_i}.\n",
    "\t\\end{align*}\n",
    "Now we take the logarithm and obtain\n",
    "\\begin{align*}\n",
    "\t\t \\log(\\mathcal{L}(\\{\\mathbf{x}\\}; \\lambda)) = n \\log(\\lambda)-\\lambda \\sum_{i=1}^n x_i. \n",
    "\t\\end{align*}\n",
    "Taking the derivative wrt. $\\lambda$ yields\n",
    "$$\n",
    "\\frac{\\partial \\log(\\mathcal{L}(\\{\\mathbf{x}\\}; \\lambda))}{\\partial \\lambda}=\\frac{n}{\\lambda}-\\sum_{i=1}^n x_i.\n",
    "$$\n",
    "Setting the above expression to $0$, finally leads us to the following result for the optimal $\\lambda^*$:\n",
    "$$\n",
    "\\lambda^*=\\frac{n}{\\sum_{i=1}^n x_i}.\n",
    "$$"
   ]
  },
  {
   "cell_type": "markdown",
   "metadata": {},
   "source": [
    "### Part 2\n",
    " Apply the formula for $\\lambda^*$ from the previous part to the data of ${\\tt DataSet7}$. Visualize the \n",
    "density defined by this optimal $\\lambda^*$ and compare it to the \n",
    "true data distribution (e.g. by using a histogram)."
   ]
  },
  {
   "cell_type": "markdown",
   "metadata": {},
   "source": [
    "### Solution"
   ]
  },
  {
   "cell_type": "code",
   "execution_count": 6,
   "metadata": {},
   "outputs": [
    {
     "name": "stdout",
     "output_type": "stream",
     "text": [
      "Estimated lambda =  3.120304521828994\n"
     ]
    },
    {
     "data": {
      "image/png": "[encoded data removed]",
      "text/plain": [
       "<Figure size 576x432 with 1 Axes>"
      ]
     },
     "metadata": {
      "needs_background": "light"
     },
     "output_type": "display_data"
    }
   ],
   "source": [
    "# load the data\n",
    "data = np.genfromtxt('DataSet7.csv', delimiter=',', skip_header=1)\n",
    "# estimate the parameter according to the previously derived formula\n",
    "lambd_est = len(data)/np.sum(data)\n",
    "print('Estimated lambda = ',lambd_est)\n",
    "#Define function that computes estimated pdf\n",
    "def f(x_i, lambd):\n",
    "    if x_i < 0:\n",
    "        return 0\n",
    "    return lambd * np.exp(-lambd * x_i)\n",
    "#Evaluate f on points with distance 0.01 in interval [0,3], store values\n",
    "x = np.arange(0, 3.0, 0.01)\n",
    "y = [f(x_i, lambd_est) for x_i in x]\n",
    "#Make plot\n",
    "plt.figure(figsize = (8,6))\n",
    "plt.hist(data, 35, density = True, label = 'true data')\n",
    "plt.plot(x, y, label = 'estimated pdf', linewidth = 3)\n",
    "plt.xlabel('x')\n",
    "plt.ylabel('f(x)')\n",
    "plt.legend()\n",
    "plt.show()"
   ]
  },
  {
   "cell_type": "code",
   "execution_count": null,
   "metadata": {},
   "outputs": [],
   "source": []
  }
 ],
 "metadata": {
  "kernelspec": {
   "display_name": "Python 3",
   "language": "python",
   "name": "python3"
  },
  "language_info": {
   "codemirror_mode": {
    "name": "ipython",
    "version": 3
   },
   "file_extension": ".py",
   "mimetype": "text/x-python",
   "name": "python",
   "nbconvert_exporter": "python",
   "pygments_lexer": "ipython3",
   "version": "3.7.0"
  }
 },
 "nbformat": 4,
 "nbformat_minor": 2
}
