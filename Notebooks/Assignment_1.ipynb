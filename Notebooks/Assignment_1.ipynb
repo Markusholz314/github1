{
 "cells": [
  {
   "cell_type": "markdown",
   "metadata": {},
   "source": [
    "# Assignment 1\n",
    "## Task 1\n",
    "Suppose we have a two-class classification problem, where we denote\n",
    "the two classes with $+1$ and $-1$. Further assume that the joint\n",
    "distribution of $\\mathbf{x}$ and $y$, $p(\\mathbf{x},y)$, is known and that\n",
    "the distributions of the two classes do not overlap, i.e.\n",
    "$$\n",
    "\\min\\{p(\\mathbf{x}|y=+1),p(\\mathbf{x}|y=-1)\\}=0.\n",
    "$$\n",
    "Determine an optimal classification function $g$ and compute the\n",
    "generalization error using the zero-one loss function."
   ]
  },
  {
   "cell_type": "markdown",
   "metadata": {},
   "source": [
    "### Solution\n",
    " - your explanation goes here (enable editing by double click)"
   ]
  },
  {
   "cell_type": "markdown",
   "metadata": {},
   "source": [
    "## Task 2\n",
    "Assume that the two classes in data set ${\\tt DataSet6}$ are\n",
    "distributed according to multivariate normal distributions. Estimate\n",
    "the means and covariance matrices as well as $p(y=+1)$ and $p(y=-1)$\n",
    "from the data (you may use all 200 samples), compute an optimal\n",
    "classification function (see slide 9) and visualize it\n",
    "graphically(a two-dimensional plot suffices). "
   ]
  },
  {
   "cell_type": "markdown",
   "metadata": {},
   "source": [
    "### Solution"
   ]
  },
  {
   "cell_type": "code",
   "execution_count": 2,
   "metadata": {},
   "outputs": [],
   "source": [
    "import sklearn\n",
    "import numpy as np\n",
    "import matplotlib.pyplot as plt\n",
    "\n",
    "# your code goes here"
   ]
  },
  {
   "cell_type": "markdown",
   "metadata": {},
   "source": [
    "## Task 3\n",
    "### Part 1\n",
    "Given the model class $M$ of all exponential distributions with \n",
    "parameter\n",
    "$\\lambda$.\n",
    "i.e. $M=\\{f_{\\lambda}(x) \\mid \\lambda > 0\\}$ with\n",
    "$$\n",
    "      f_{\\lambda}(x) = \\begin{cases}\\displaystyle\n",
    "                         \\lambda {\\rm e}^{-\\lambda x} & x \\ge 0 \\\\\n",
    "\t\t\t0 & x < 0\n",
    "                      \\end{cases} \n",
    "$$\n",
    "Derive a formula for the maximum likelihood estimator $\\lambda^*$ for the parameter \n",
    "$\\lambda$.\n",
    "\n",
    "Hint: Maximize the logarithm of the likelihood function instead of the \n",
    "likelihood function\n",
    "itself."
   ]
  },
  {
   "cell_type": "markdown",
   "metadata": {},
   "source": [
    "### Solution\n",
    "- your explanation goes here"
   ]
  },
  {
   "cell_type": "markdown",
   "metadata": {},
   "source": [
    "### Part 2\n",
    " Apply the formula for $\\lambda^*$ from the previous part to the data of ${\\tt DataSet7}$. Visualize the \n",
    "density defined by this optimal $\\lambda^*$ and compare it to the \n",
    "true data distribution (e.g. by using a histogram)."
   ]
  },
  {
   "cell_type": "markdown",
   "metadata": {},
   "source": [
    "### Solution"
   ]
  },
  {
   "cell_type": "code",
   "execution_count": 3,
   "metadata": {},
   "outputs": [],
   "source": [
    "# your code goes here"
   ]
  }
 ],
 "metadata": {
  "kernelspec": {
   "display_name": "Python 3",
   "language": "python",
   "name": "python3"
  },
  "language_info": {
   "codemirror_mode": {
    "name": "ipython",
    "version": 3
   },
   "file_extension": ".py",
   "mimetype": "text/x-python",
   "name": "python",
   "nbconvert_exporter": "python",
   "pygments_lexer": "ipython3",
   "version": "3.7.0"
  }
 },
 "nbformat": 4,
 "nbformat_minor": 2
}
